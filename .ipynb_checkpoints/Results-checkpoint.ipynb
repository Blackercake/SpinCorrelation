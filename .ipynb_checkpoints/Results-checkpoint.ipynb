{
 "cells": [
  {
   "cell_type": "markdown",
   "metadata": {
    "cell_id": "00001-f2b470f3-68c3-432c-a816-6dac506e8c74",
    "deepnote_cell_type": "markdown",
    "tags": []
   },
   "source": [
    "# Results from Ising chain calculation"
   ]
  },
  {
   "cell_type": "markdown",
   "metadata": {
    "cell_id": "00002-2483b45d-dc2d-4ba5-ae95-1c90c79f6fc8",
    "deepnote_cell_type": "markdown",
    "tags": []
   },
   "source": [
    "## Clean case Ising interaction\n",
    "\n",
    "- $H_{int} = J_z\\sum_{<i,j>} \\sigma_z\\cdot\\sigma_z$\n",
    "- N = 4 particles and consider only two particles in the middle to avoid edge effect.\n",
    "- Initialy prepare atoms in $|+\\rangle=\\frac{1}{\\sqrt{2}}(|0\\rangle+|1\\rangle)$.\n",
    "- Only $\\langle \\sigma_x \\rangle$ shows the dynamic of $H_{int}$.\n",
    "\n",
    "<img src=\"Outputs/Ising-like_1D_chain,_Jz=1_(clean_case),initial_x,measure_on_sigma_x.png\" width=\"400\">"
   ]
  },
  {
   "cell_type": "markdown",
   "metadata": {
    "cell_id": "00003-1c397ec2-d91d-4904-92f2-87a35313e94f",
    "deepnote_cell_type": "markdown",
    "tags": []
   },
   "source": [
    "## Put random fluctuation on $Bz$\n",
    "\n",
    "- $H_{int} = J_z\\sum_{<i,j>} \\sigma_z\\cdot\\sigma_z + B_z\\sigma_z$\n",
    "- This is a global fluctuation phase but different between shot to shot leads to random vector on equatorial plane of bloch sphere.\n",
    "- $B_z$ is random between $0$ to $0.1J_z, 1J_z, 10J_z$.\n",
    "- Both $\\langle \\sigma_x \\rangle$ and $\\langle \\sigma_y \\rangle$ have a correlation dynamic by $\\langle \\sigma_z \\rangle$ stays zero.\n",
    "- Looking from measurement on both $\\langle \\sigma_x \\rangle$ and $\\langle \\sigma_y \\rangle$, the random phase makes the $\\sigma_z\\cdot\\sigma_z$ interaction term cross-talk to both $x$ and $y$ basises. This also consistance with the decreasing of g2 on $\\langle \\sigma_x \\rangle$ and appears on $\\langle \\sigma_y \\rangle$.\n",
    "\n",
    "### 1. Measure $\\langle \\sigma_x \\rangle$\n",
    "- Random phase makes total magnitization $\\sum_i \\langle \\sigma_x^i \\rangle$ go to zero.\n",
    "- The g2 correlation due to $\\sigma_z\\cdot\\sigma_z$ still survive but the peak amplitude reduces by factor of 0.5 and stay constant at fully random phase.\n",
    "- $\\langle \\sigma_x^i \\rangle$ plot has a signature loops where the envelope is governed by clean case (No $B_z$ fluctuation). The minimum uncertainty are presented at the same position as zero magnitization for clean case (Can we use this to clame for entanglement state of the system in random phase case?).\n",
    "- Compare with Random phase where $J_z=0$, $\\langle \\sigma_x^i \\rangle$ plot shows fully uncertainty.\n",
    "\n",
    "<img src=\"Outputs/Local sigma at 1 position/Ramsey Jz=1, Bz=0.1(random 300),initial x,measure on sigma_x.png\" width=\"600\">\n",
    "\n",
    "<img src=\"Outputs/Local sigma at 1 position/Ramsey Jz=1, Bz=1(random 300),initial x,measure on sigma_x.png\" width=\"600\">\n",
    "\n",
    "<img src=\"Outputs/Local sigma at 1 position/Ramsey Jz=1, Bz=10(random 300),initial x,measure on sigma_x.png\" width=\"600\">\n",
    "\n",
    "<img src=\"Outputs/Local sigma at 1 position/Ramsey Jz=0, Bz=1(random 300),initial x,measure on sigma_x.png\" width=\"600\">\n",
    "\n",
    "### 2. Measure $\\langle \\sigma_y \\rangle$\n",
    "- Random phase makes total magnitization $\\sum_i \\langle \\sigma_y^i \\rangle$ stay at zero.\n",
    "- The g2 correlation of $\\langle \\sigma_y \\rangle$ is zero for clean case. In contrust, the g2 correlation appears and increases to 0.13.\n",
    "- The $\\langle \\sigma_x^i \\rangle$ plot also shows the same signature loops as measure in $\\langle \\sigma_y \\rangle$.\n",
    "\n",
    "<img src=\"Outputs/Local sigma at 1 position/Ramsey Jz=1, Bz=0.1(random 300),initial x,measure on sigma_y.png\" width=\"600\">\n",
    "\n",
    "<img src=\"Outputs/Local sigma at 1 position/Ramsey Jz=1, Bz=1(random 300),initial x,measure on sigma_y.png\" width=\"600\">\n",
    "\n",
    "<img src=\"Outputs/Local sigma at 1 position/Ramsey Jz=1, Bz=10(random 300),initial x,measure on sigma_y.png\" width=\"600\">\n"
   ]
  },
  {
   "cell_type": "markdown",
   "metadata": {
    "cell_id": "00004-0207a1dc-e775-4184-9ff5-34137fea4855",
    "deepnote_cell_type": "markdown",
    "tags": []
   },
   "source": []
  },
  {
   "cell_type": "markdown",
   "metadata": {
    "created_in_deepnote_cell": true,
    "deepnote_cell_type": "markdown",
    "tags": []
   },
   "source": [
    "<a style='text-decoration:none;line-height:16px;display:flex;color:#5B5B62;padding:10px;justify-content:end;' href='https://deepnote.com?utm_source=created-in-deepnote-cell&projectId=ad574db9-57f6-4918-b977-e02cef63b094' target=\"_blank\">\n",
    "<img style='display:inline;max-height:16px;margin:0px;margin-right:7.5px;' src='data:image/svg+xml;base64,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' > </img>\n",
    "Created in <span style='font-weight:600;margin-left:4px;'>Deepnote</span></a>"
   ]
  }
 ],
 "metadata": {
  "deepnote": {},
  "deepnote_execution_queue": [],
  "deepnote_notebook_id": "36ec7d9d-1061-46fe-8e70-0844739ded75",
  "kernelspec": {
   "display_name": "Python 3",
   "language": "python",
   "name": "python3"
  },
  "language_info": {
   "codemirror_mode": {
    "name": "ipython",
    "version": 3
   },
   "file_extension": ".py",
   "mimetype": "text/x-python",
   "name": "python",
   "nbconvert_exporter": "python",
   "pygments_lexer": "ipython3",
   "version": "3.9.1"
  }
 },
 "nbformat": 4,
 "nbformat_minor": 4
}
